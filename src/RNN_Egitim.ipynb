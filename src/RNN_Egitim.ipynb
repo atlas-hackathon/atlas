{
 "cells": [
  {
   "cell_type": "code",
   "execution_count": 0,
   "metadata": {
    "id": "LLdrSVesAIyQ",
    "colab_type": "code",
    "outputId": "757c69d4-7998-4f92-cb17-4922db0b3040",
    "executionInfo": {
     "status": "ok",
     "timestamp": 1.575177751915E12,
     "user_tz": -180.0,
     "elapsed": 629.0,
     "user": {
      "displayName": "Bahadır Can",
      "photoUrl": "https://lh4.googleusercontent.com/-x4T4yEeDmdQ/AAAAAAAAAAI/AAAAAAAAADA/gjr6_T1iCe8/s64/photo.jpg",
      "userId": "16885500231842327234"
     }
    },
    "colab": {
     "base_uri": "https://localhost:8080/",
     "height": 259.0
    }
   },
   "outputs": [
    {
     "name": "stdout",
     "output_type": "stream",
     "text": [
      "Drive already mounted at /content/gdrive; to attempt to forcibly remount, call drive.mount(\"/content/gdrive\", force_remount=True).\n",
      "train set: (12602, 2)\n"
     ]
    },
    {
     "data": {
      "text/plain": [
       "0                            Çok iyi ürün ben begendim\n",
       "1                                      Sorun yaşamadım\n",
       "2                         dürüst satıcı özenli ambalaj\n",
       "3                              mağaza iletişimi berbat\n",
       "4                 yazılan mesajlara 2 gün sonra döndü.\n",
       "5    11.11.2019 Tarihinde verdiğim sipariş 20.11.20...\n",
       "6                             sürat kargoyu degistirin\n",
       "7     Tavsiye ederim kargo ve paketleme cok özenlıydı.\n",
       "8    Teşekkürler istediğim ürün özel paketleme hızl...\n",
       "9        Teslimat ve mağaza konusunda sıkıntım olmadı.\n",
       "Name: Comment, dtype: object"
      ]
     },
     "execution_count": 364,
     "metadata": {
      "tags": []
     },
     "output_type": "execute_result"
    }
   ],
   "source": [
    "#RNN Model Eğitim Scripti\n",
    "#v0.1 Google Colab Üzerinde çalışmaya hazır şekilde bir RNN Model Eğitimi Scripti\n",
    "#    -csv ve txt şeklinde derlenmiş dataların işlenmesi destekleniyor.\n",
    "#    -Google Colab platformunda teste hazır.\n",
    "#    -Github'da bulunan örnek datalar kullanılabilir ve değerler üzerinde çalışılarak performans incelenebilir veya kullanıcılar \n",
    "#     crawler scriptini kullanarak oluşturduğu datayı kullanır.\n",
    "#############################\n",
    "\n",
    "#coding:utf8\n",
    "\n",
    "# Kütüphanelerin içe aktarılması \n",
    "import numpy as np\n",
    "import pandas as pd\n",
    "from matplotlib import pyplot as plt\n",
    "plt.style.use('dark_background')\n",
    "from keras.preprocessing.text import Tokenizer\n",
    "from keras.preprocessing.sequence import pad_sequences\n",
    "from sklearn.model_selection import train_test_split\n",
    "from keras.utils import to_categorical\n",
    "from keras.models import Sequential\n",
    "from keras.callbacks import EarlyStopping\n",
    "from keras.layers import Dense, Dropout, Embedding, LSTM, GlobalMaxPooling1D, SpatialDropout1D\n",
    "from sklearn.preprocessing import LabelEncoder\n",
    "from sklearn.preprocessing import OneHotEncoder\n",
    "\n",
    "#Google Colab ve Drive integrasyonu. Kullanıcılar kendi yerel bilgisayarlarında çalıştırmak için data path değişkenlerini değiştirmeli.\n",
    "from google.colab import drive\n",
    "drive.mount('/content/gdrive')\n",
    "data_path = '/content/gdrive/My Drive/hackathon/preTrained.txt'\n",
    "\n",
    "\n",
    "# Verinin giriş ve çıkış olarak ayrılması\n",
    "dataframe = pd.read_csv(data_path, sep='|')\n",
    "dataframe.Comment=dataframe.Comment.astype(str)\n",
    "dataframe.Score=dataframe.Score.astype(float)\n",
    "\n",
    "#train setinin örnek gösterimi\n",
    "print('train set: {0}'.format(dataframe.shape))\n",
    "\n",
    "x_train= dataframe['Comment']\n",
    "y_train = dataframe['Score']\n",
    "\n",
    "x_train.head(10)"
   ]
  },
  {
   "cell_type": "markdown",
   "metadata": {
    "id": "0TpIeHi1Jgw2",
    "colab_type": "text"
   },
   "source": [
    "Burada olasılıklar histogram olarak gösterilmekte."
   ]
  },
  {
   "cell_type": "code",
   "execution_count": 0,
   "metadata": {
    "id": "CX-LUENDJk_b",
    "colab_type": "code",
    "outputId": "972c2af9-218f-4289-cace-86a414ee23b0",
    "executionInfo": {
     "status": "ok",
     "timestamp": 1.57517465847E12,
     "user_tz": -180.0,
     "elapsed": 1058.0,
     "user": {
      "displayName": "Bahadır Can",
      "photoUrl": "https://lh4.googleusercontent.com/-x4T4yEeDmdQ/AAAAAAAAAAI/AAAAAAAAADA/gjr6_T1iCe8/s64/photo.jpg",
      "userId": "16885500231842327234"
     }
    },
    "colab": {
     "base_uri": "https://localhost:8080/",
     "height": 516.0
    }
   },
   "outputs": [
    {
     "name": "stdout",
     "output_type": "stream",
     "text": [
      "max phrase len: 593\n"
     ]
    },
    {
     "data": {
      "image/png": "[encoded data removed]",
      "text/plain": [
       "<Figure size 720x576 with 1 Axes>"
      ]
     },
     "metadata": {
      "tags": []
     },
     "output_type": "display_data"
    }
   ],
   "source": [
    "# Bu kısımda şu an için bir bug bulunmakta.\n",
    "phrase_len = x_train.apply(lambda p: len(p.split(' ')))\n",
    "max_phrase_len = phrase_len.max()\n",
    "print('max phrase len: {0}'.format(max_phrase_len))\n",
    "plt.figure(figsize = (10, 8))\n",
    "plt.hist(phrase_len, alpha = 0.2, density = True)\n",
    "plt.xlabel('phrase len')\n",
    "plt.ylabel('probability')\n",
    "plt.grid(alpha = 0.25)"
   ]
  },
  {
   "cell_type": "code",
   "execution_count": 0,
   "metadata": {
    "id": "KQYfMV-yB0bn",
    "colab_type": "code",
    "outputId": "7ad968c9-b425-4a62-89af-855b3fa26248",
    "executionInfo": {
     "status": "ok",
     "timestamp": 1.575174662001E12,
     "user_tz": -180.0,
     "elapsed": 979.0,
     "user": {
      "displayName": "Bahadır Can",
      "photoUrl": "https://lh4.googleusercontent.com/-x4T4yEeDmdQ/AAAAAAAAAAI/AAAAAAAAADA/gjr6_T1iCe8/s64/photo.jpg",
      "userId": "16885500231842327234"
     }
    },
    "colab": {
     "base_uri": "https://localhost:8080/",
     "height": 186.0
    }
   },
   "outputs": [
    {
     "name": "stdout",
     "output_type": "stream",
     "text": [
      "[[0. 0. 0. 0. 0. 0. 1.]\n",
      " [0. 0. 0. 0. 0. 0. 1.]\n",
      " [0. 0. 0. 0. 0. 1. 0.]\n",
      " [0. 0. 1. 0. 0. 0. 0.]]\n"
     ]
    },
    {
     "name": "stderr",
     "output_type": "stream",
     "text": [
      "/usr/local/lib/python3.6/dist-packages/sklearn/preprocessing/_encoders.py:415: FutureWarning: The handling of integer data will change in version 0.22. Currently, the categories are determined based on the range [0, max(values)], while in the future they will be determined based on the unique values.\n",
      "If you want the future behaviour and silence this warning, you can specify \"categories='auto'\".\n",
      "In case you used a LabelEncoder before this OneHotEncoder to convert the categories to integers, then you can now use the OneHotEncoder directly.\n",
      "  warnings.warn(msg, FutureWarning)\n"
     ]
    }
   ],
   "source": [
    "max_words = 8192\n",
    "# Yapay sinir ağına verilecek girdide bulunan cümlelerinin tokenize edilmesi.\n",
    "tokenizer = Tokenizer(\n",
    "    num_words = max_words,\n",
    "    filters = '\"#$%&()*+-/:;<=>@[\\]^_`{|}~')\n",
    "tokenizer.fit_on_texts(x_train)\n",
    "x_train = tokenizer.texts_to_sequences(x_train)\n",
    "x_train = pad_sequences(x_train, maxlen = max_phrase_len)\n",
    "\n",
    "\n",
    "\n",
    "# Çıkış değerleri sistem tarafından değerlendirilebilmesi için OneHotEncoder formatına çevrilir\n",
    "y_train = np.array(y_train)\n",
    "label_encoder = LabelEncoder()\n",
    "y_train_intencoded = label_encoder.fit_transform(y_train)\n",
    "onehot_encoder = OneHotEncoder(sparse=False)\n",
    "y_train_intencoded = y_train_intencoded.reshape(len(y_train_intencoded), 1)\n",
    "y_train = onehot_encoder.fit_transform(y_train_intencoded)\n",
    "\n",
    "#Çıkış değerlerinden bir kesit\n",
    "print(y_train[0:4])\n",
    "\n"
   ]
  },
  {
   "cell_type": "code",
   "execution_count": 0,
   "metadata": {
    "id": "TOzHGW81Id5b",
    "colab_type": "code",
    "outputId": "fdb9cc07-472b-4636-a4f0-d7db1e019ebe",
    "executionInfo": {
     "status": "ok",
     "timestamp": 1.57517509966E12,
     "user_tz": -180.0,
     "elapsed": 436129.0,
     "user": {
      "displayName": "Bahadır Can",
      "photoUrl": "https://lh4.googleusercontent.com/-x4T4yEeDmdQ/AAAAAAAAAAI/AAAAAAAAADA/gjr6_T1iCe8/s64/photo.jpg",
      "userId": "16885500231842327234"
     }
    },
    "colab": {
     "base_uri": "https://localhost:8080/",
     "height": 278.0
    }
   },
   "outputs": [
    {
     "name": "stdout",
     "output_type": "stream",
     "text": [
      "Train on 9451 samples, validate on 3151 samples\n",
      "Epoch 1/100\n",
      "9451/9451 [==============================] - 79s 8ms/step - loss: 0.8793 - acc: 0.8172 - val_loss: 0.5351 - val_acc: 0.8772\n",
      "Epoch 2/100\n",
      "9451/9451 [==============================] - 75s 8ms/step - loss: 0.6533 - acc: 0.8259 - val_loss: 0.5059 - val_acc: 0.8772\n",
      "Epoch 3/100\n",
      "9451/9451 [==============================] - 71s 8ms/step - loss: 0.5686 - acc: 0.8377 - val_loss: 0.5041 - val_acc: 0.8718\n",
      "Epoch 4/100\n",
      "9451/9451 [==============================] - 70s 7ms/step - loss: 0.5108 - acc: 0.8521 - val_loss: 0.5294 - val_acc: 0.8680\n",
      "Epoch 5/100\n",
      "9451/9451 [==============================] - 69s 7ms/step - loss: 0.4640 - acc: 0.8620 - val_loss: 0.5584 - val_acc: 0.8692\n",
      "Epoch 6/100\n",
      "9451/9451 [==============================] - 70s 7ms/step - loss: 0.4311 - acc: 0.8710 - val_loss: 0.5894 - val_acc: 0.8670\n",
      "Epoch 00006: early stopping\n"
     ]
    }
   ],
   "source": [
    "#Model eğitimi için parametrelerin doldurulması.\n",
    "batch_size = 256\n",
    "epochs = 100\n",
    "\n",
    "es = EarlyStopping(monitor='val_loss', mode='min',patience=3, verbose=1)\n",
    "model_lstm = Sequential()\n",
    "model_lstm.add(Embedding(input_dim = max_words, output_dim = 256, input_length = max_phrase_len))\n",
    "model_lstm.add(SpatialDropout1D(0.28))\n",
    "model_lstm.add(LSTM(256, dropout = 0.28, recurrent_dropout = 0.28))\n",
    "model_lstm.add(Dense(256, activation = 'relu'))\n",
    "model_lstm.add(Dropout(0.28))\n",
    "model_lstm.add(Dense(7, activation = 'softmax'))\n",
    "model_lstm.compile(\n",
    "    loss='categorical_crossentropy',\n",
    "    optimizer='Adam',\n",
    "    metrics=['accuracy']\n",
    ")\n",
    "\n",
    "#Model eğitimi yapılması\n",
    "history = model_lstm.fit(\n",
    "    x_train,\n",
    "    y_train,\n",
    "    validation_split = 0.25,\n",
    "    epochs = 100,\n",
    "    batch_size = 256,\n",
    "    callbacks=[es]\n",
    ")\n",
    "\n"
   ]
  },
  {
   "cell_type": "code",
   "execution_count": 0,
   "metadata": {
    "id": "P9TiVIzeilKR",
    "colab_type": "code",
    "colab": {}
   },
   "outputs": [],
   "source": [
    "#Buraya tarihe gore dosya ismini degistirme uygulanabilir.\n",
    "#Elde edilen modelin kaydedilmesi\n",
    "model_lstm.save('/content/gdrive/My Drive/hackathon/RNN12kdataES.h5')"
   ]
  },
  {
   "cell_type": "markdown",
   "metadata": {
    "id": "4LHop7cKIoxQ",
    "colab_type": "text"
   },
   "source": [
    "Grafikler kayıp ve ölçüm doğruluğunu göstermektedir."
   ]
  },
  {
   "cell_type": "code",
   "execution_count": 0,
   "metadata": {
    "id": "uyrCNH94IqDW",
    "colab_type": "code",
    "outputId": "6bfb7a0a-3b9e-427a-d9f1-85702b4956ac",
    "executionInfo": {
     "status": "ok",
     "timestamp": 1.575175112212E12,
     "user_tz": -180.0,
     "elapsed": 1068.0,
     "user": {
      "displayName": "Bahadır Can",
      "photoUrl": "https://lh4.googleusercontent.com/-x4T4yEeDmdQ/AAAAAAAAAAI/AAAAAAAAADA/gjr6_T1iCe8/s64/photo.jpg",
      "userId": "16885500231842327234"
     }
    },
    "colab": {
     "base_uri": "https://localhost:8080/",
     "height": 295.0
    }
   },
   "outputs": [
    {
     "data": {
      "image/png": "[encoded data removed]",
      "text/plain": [
       "<Figure size 432x288 with 1 Axes>"
      ]
     },
     "metadata": {
      "tags": []
     },
     "output_type": "display_data"
    }
   ],
   "source": [
    "plt.clf()\n",
    "loss = history.history['loss']\n",
    "val_loss = history.history['val_loss']\n",
    "epochs = range(1, len(loss) + 1)\n",
    "plt.plot(epochs, loss, 'g', label='Training loss')\n",
    "plt.plot(epochs, val_loss, 'y', label='Validation loss')\n",
    "plt.title('Training and validation loss')\n",
    "plt.xlabel('Epochs')\n",
    "plt.ylabel('Loss')\n",
    "plt.legend()\n",
    "plt.show()"
   ]
  },
  {
   "cell_type": "markdown",
   "metadata": {
    "id": "gjSbI8okItoo",
    "colab_type": "text"
   },
   "source": [
    "more plotting"
   ]
  },
  {
   "cell_type": "code",
   "execution_count": 0,
   "metadata": {
    "id": "cQxNoAk9Iwem",
    "colab_type": "code",
    "outputId": "28c26cd7-d2a4-45e1-d331-9a3ddb807348",
    "executionInfo": {
     "status": "ok",
     "timestamp": 1.575175120999E12,
     "user_tz": -180.0,
     "elapsed": 1080.0,
     "user": {
      "displayName": "Bahadır Can",
      "photoUrl": "https://lh4.googleusercontent.com/-x4T4yEeDmdQ/AAAAAAAAAAI/AAAAAAAAADA/gjr6_T1iCe8/s64/photo.jpg",
      "userId": "16885500231842327234"
     }
    },
    "colab": {
     "base_uri": "https://localhost:8080/",
     "height": 295.0
    }
   },
   "outputs": [
    {
     "data": {
      "image/png": "[encoded data removed]",
      "text/plain": [
       "<Figure size 432x288 with 1 Axes>"
      ]
     },
     "metadata": {
      "tags": []
     },
     "output_type": "display_data"
    }
   ],
   "source": [
    "plt.clf()\n",
    "acc = history.history['acc']\n",
    "val_acc = history.history['val_acc']\n",
    "plt.plot(epochs, acc, 'g', label='Training acc')\n",
    "plt.plot(epochs, val_acc, 'y', label='Validation acc')\n",
    "plt.title('Training and validation accuracy')\n",
    "plt.xlabel('Epochs')\n",
    "plt.ylabel('Accuracy')\n",
    "plt.legend()\n",
    "plt.show()"
   ]
  },
  {
   "cell_type": "code",
   "execution_count": 0,
   "metadata": {
    "id": "xV-YnZ3bYf4Q",
    "colab_type": "code",
    "outputId": "c46e72bb-c3cf-4fbe-a8f9-33bacbf15c53",
    "executionInfo": {
     "status": "ok",
     "timestamp": 1.575175281814E12,
     "user_tz": -180.0,
     "elapsed": 1136.0,
     "user": {
      "displayName": "Bahadır Can",
      "photoUrl": "https://lh4.googleusercontent.com/-x4T4yEeDmdQ/AAAAAAAAAAI/AAAAAAAAADA/gjr6_T1iCe8/s64/photo.jpg",
      "userId": "16885500231842327234"
     }
    },
    "colab": {
     "base_uri": "https://localhost:8080/",
     "height": 36.0
    }
   },
   "outputs": [
    {
     "name": "stdout",
     "output_type": "stream",
     "text": [
      "[0, 0, 0, 0, 0, 0, 1]\n"
     ]
    }
   ],
   "source": [
    "# Oluşturulan yeni modellerin test edilmesi için rastgele belirlenen tek değer üzerinden test yapılabilir.\n",
    "\n",
    "test_comment = \"İdare eder bir ürün kargo hızlı teşekkürler\"\n",
    "test_comment = tokenizer.texts_to_sequences([test_comment])\n",
    "test_comment = pad_sequences(test_comment, 593)\n",
    "\n",
    "test_output = model_lstm.predict([test_comment])\n",
    "print(test_output)\n",
    "\n",
    "result = [0,0,0,0,0,0,0]\n",
    "result[np.argmax(test_output)]=1\n",
    "print(result)\n",
    "\n",
    "\n",
    "\n",
    "\n",
    "\n",
    "\n"
   ]
  }
 ],
 "metadata": {
  "colab": {
   "name": "RNN_Egitim.ipynb",
   "provenance": [],
   "collapsed_sections": []
  },
  "kernelspec": {
   "name": "python3",
   "display_name": "Python 3"
  },
  "accelerator": "GPU"
 },
 "nbformat": 4,
 "nbformat_minor": 0
}
